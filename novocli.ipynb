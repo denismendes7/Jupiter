{
 "cells": [
  {
   "cell_type": "code",
   "execution_count": 1,
   "id": "69ed2fa5",
   "metadata": {},
   "outputs": [],
   "source": [
    "import pandas as pd\n",
    "import numpy as np\n",
    "import seaborn as sns \n",
    "import matplotlib.pyplot as plt \n",
    "\n"
   ]
  },
  {
   "cell_type": "code",
   "execution_count": 2,
   "id": "e3de875f",
   "metadata": {},
   "outputs": [],
   "source": [
    "%matplotlib inline"
   ]
  },
  {
   "cell_type": "code",
   "execution_count": 3,
   "id": "e414daf9",
   "metadata": {},
   "outputs": [],
   "source": [
    "df = pd.read_excel('VENDAS.xlsx')"
   ]
  },
  {
   "cell_type": "code",
   "execution_count": 4,
   "id": "f889fd4a",
   "metadata": {},
   "outputs": [
    {
     "data": {
      "text/html": [
       "<div>\n",
       "<style scoped>\n",
       "    .dataframe tbody tr th:only-of-type {\n",
       "        vertical-align: middle;\n",
       "    }\n",
       "\n",
       "    .dataframe tbody tr th {\n",
       "        vertical-align: top;\n",
       "    }\n",
       "\n",
       "    .dataframe thead th {\n",
       "        text-align: right;\n",
       "    }\n",
       "</style>\n",
       "<table border=\"1\" class=\"dataframe\">\n",
       "  <thead>\n",
       "    <tr style=\"text-align: right;\">\n",
       "      <th></th>\n",
       "      <th>DATA_VENDA</th>\n",
       "      <th>COD_FORNECEDOR</th>\n",
       "      <th>COD_CLIENTE</th>\n",
       "      <th>COD_RODUTO</th>\n",
       "      <th>DESC_PRODUTO</th>\n",
       "      <th>COD_GRUPO</th>\n",
       "      <th>COD_SUBGRUPO</th>\n",
       "      <th>QUANT_VENDIDA</th>\n",
       "      <th>EMRPESA</th>\n",
       "    </tr>\n",
       "  </thead>\n",
       "  <tbody>\n",
       "    <tr>\n",
       "      <th>0</th>\n",
       "      <td>2021-05-10 14:05:20</td>\n",
       "      <td>34</td>\n",
       "      <td>108</td>\n",
       "      <td>332</td>\n",
       "      <td>PAPEL KRAFT NATURAL 80GR 76X112 250 FLS</td>\n",
       "      <td>15</td>\n",
       "      <td>1</td>\n",
       "      <td>16.0</td>\n",
       "      <td>ALFPACK</td>\n",
       "    </tr>\n",
       "    <tr>\n",
       "      <th>1</th>\n",
       "      <td>2021-05-10 14:05:20</td>\n",
       "      <td>239</td>\n",
       "      <td>108</td>\n",
       "      <td>330</td>\n",
       "      <td>PAPEL KRAFT KLALINER 100 G 76X120CM 200FL</td>\n",
       "      <td>15</td>\n",
       "      <td>1</td>\n",
       "      <td>4.0</td>\n",
       "      <td>ALFPACK</td>\n",
       "    </tr>\n",
       "    <tr>\n",
       "      <th>2</th>\n",
       "      <td>2021-05-11 16:27:26</td>\n",
       "      <td>207</td>\n",
       "      <td>108</td>\n",
       "      <td>243</td>\n",
       "      <td>YG-38 - CX 500 EMBALAGEM ALIMENTICIA</td>\n",
       "      <td>3</td>\n",
       "      <td>243</td>\n",
       "      <td>1.0</td>\n",
       "      <td>ALFPACK</td>\n",
       "    </tr>\n",
       "    <tr>\n",
       "      <th>3</th>\n",
       "      <td>2021-05-13 16:12:09</td>\n",
       "      <td>207</td>\n",
       "      <td>541</td>\n",
       "      <td>363</td>\n",
       "      <td>YG-70 - CX 400  EMBALAGEM ALIMENTICIA</td>\n",
       "      <td>3</td>\n",
       "      <td>363</td>\n",
       "      <td>1.0</td>\n",
       "      <td>ALFPACK</td>\n",
       "    </tr>\n",
       "    <tr>\n",
       "      <th>4</th>\n",
       "      <td>2021-05-13 16:25:40</td>\n",
       "      <td>207</td>\n",
       "      <td>487</td>\n",
       "      <td>363</td>\n",
       "      <td>YG-70 - CX 400  EMBALAGEM ALIMENTICIA</td>\n",
       "      <td>3</td>\n",
       "      <td>363</td>\n",
       "      <td>2.0</td>\n",
       "      <td>ALFPACK</td>\n",
       "    </tr>\n",
       "  </tbody>\n",
       "</table>\n",
       "</div>"
      ],
      "text/plain": [
       "           DATA_VENDA  COD_FORNECEDOR  COD_CLIENTE  COD_RODUTO  \\\n",
       "0 2021-05-10 14:05:20              34          108         332   \n",
       "1 2021-05-10 14:05:20             239          108         330   \n",
       "2 2021-05-11 16:27:26             207          108         243   \n",
       "3 2021-05-13 16:12:09             207          541         363   \n",
       "4 2021-05-13 16:25:40             207          487         363   \n",
       "\n",
       "                                DESC_PRODUTO  COD_GRUPO  COD_SUBGRUPO  \\\n",
       "0    PAPEL KRAFT NATURAL 80GR 76X112 250 FLS         15             1   \n",
       "1  PAPEL KRAFT KLALINER 100 G 76X120CM 200FL         15             1   \n",
       "2       YG-38 - CX 500 EMBALAGEM ALIMENTICIA          3           243   \n",
       "3      YG-70 - CX 400  EMBALAGEM ALIMENTICIA          3           363   \n",
       "4      YG-70 - CX 400  EMBALAGEM ALIMENTICIA          3           363   \n",
       "\n",
       "   QUANT_VENDIDA  EMRPESA  \n",
       "0           16.0  ALFPACK  \n",
       "1            4.0  ALFPACK  \n",
       "2            1.0  ALFPACK  \n",
       "3            1.0  ALFPACK  \n",
       "4            2.0  ALFPACK  "
      ]
     },
     "execution_count": 4,
     "metadata": {},
     "output_type": "execute_result"
    }
   ],
   "source": [
    "df.head()"
   ]
  },
  {
   "cell_type": "code",
   "execution_count": null,
   "id": "6f6918d2",
   "metadata": {},
   "outputs": [],
   "source": []
  },
  {
   "cell_type": "code",
   "execution_count": 6,
   "id": "2126b65e",
   "metadata": {},
   "outputs": [],
   "source": [
    "df['DATA_VENDA'] = pd.to_datetime(df['DATA_VENDA'])"
   ]
  },
  {
   "cell_type": "code",
   "execution_count": 59,
   "id": "2f21f8c9",
   "metadata": {},
   "outputs": [],
   "source": [
    "selecao15 = (df['DATA_VENDA'] >= '2015-01-01') & (df['DATA_VENDA'] <= '2015-12-31')"
   ]
  },
  {
   "cell_type": "code",
   "execution_count": 60,
   "id": "89e961d3",
   "metadata": {},
   "outputs": [],
   "source": [
    "df_filtrado15 = df[selecao15]"
   ]
  },
  {
   "cell_type": "code",
   "execution_count": 63,
   "id": "1ea9fda8",
   "metadata": {
    "scrolled": true
   },
   "outputs": [
    {
     "data": {
      "text/html": [
       "<div>\n",
       "<style scoped>\n",
       "    .dataframe tbody tr th:only-of-type {\n",
       "        vertical-align: middle;\n",
       "    }\n",
       "\n",
       "    .dataframe tbody tr th {\n",
       "        vertical-align: top;\n",
       "    }\n",
       "\n",
       "    .dataframe thead th {\n",
       "        text-align: right;\n",
       "    }\n",
       "</style>\n",
       "<table border=\"1\" class=\"dataframe\">\n",
       "  <thead>\n",
       "    <tr style=\"text-align: right;\">\n",
       "      <th></th>\n",
       "      <th>DATA_VENDA</th>\n",
       "      <th>COD_FORNECEDOR</th>\n",
       "      <th>COD_CLIENTE</th>\n",
       "      <th>COD_RODUTO</th>\n",
       "      <th>DESC_PRODUTO</th>\n",
       "      <th>COD_GRUPO</th>\n",
       "      <th>COD_SUBGRUPO</th>\n",
       "      <th>QUANT_VENDIDA</th>\n",
       "      <th>EMRPESA</th>\n",
       "    </tr>\n",
       "  </thead>\n",
       "  <tbody>\n",
       "    <tr>\n",
       "      <th>8040</th>\n",
       "      <td>2015-03-02 13:05:32</td>\n",
       "      <td>83</td>\n",
       "      <td>74</td>\n",
       "      <td>3</td>\n",
       "      <td>AG-70T - EMBALAGEM ALIMENTICIA</td>\n",
       "      <td>3</td>\n",
       "      <td>3</td>\n",
       "      <td>1.0</td>\n",
       "      <td>MC COMERCIO</td>\n",
       "    </tr>\n",
       "    <tr>\n",
       "      <th>8041</th>\n",
       "      <td>2015-03-02 13:05:32</td>\n",
       "      <td>83</td>\n",
       "      <td>74</td>\n",
       "      <td>48</td>\n",
       "      <td>APN65T - EMBALAGEM ALIMENTICIA</td>\n",
       "      <td>6</td>\n",
       "      <td>48</td>\n",
       "      <td>1.0</td>\n",
       "      <td>MC COMERCIO</td>\n",
       "    </tr>\n",
       "    <tr>\n",
       "      <th>8042</th>\n",
       "      <td>2015-03-02 13:05:32</td>\n",
       "      <td>83</td>\n",
       "      <td>74</td>\n",
       "      <td>62</td>\n",
       "      <td>B1TA FILMES TRANSPARENTES</td>\n",
       "      <td>8</td>\n",
       "      <td>1</td>\n",
       "      <td>2.0</td>\n",
       "      <td>MC COMERCIO</td>\n",
       "    </tr>\n",
       "    <tr>\n",
       "      <th>8043</th>\n",
       "      <td>2015-03-03 14:57:44</td>\n",
       "      <td>83</td>\n",
       "      <td>11</td>\n",
       "      <td>1</td>\n",
       "      <td>AG-50T - EMBALAGEM ALIMENTICIA</td>\n",
       "      <td>3</td>\n",
       "      <td>4</td>\n",
       "      <td>5.0</td>\n",
       "      <td>MC COMERCIO</td>\n",
       "    </tr>\n",
       "    <tr>\n",
       "      <th>8044</th>\n",
       "      <td>2015-03-03 14:57:44</td>\n",
       "      <td>83</td>\n",
       "      <td>11</td>\n",
       "      <td>2</td>\n",
       "      <td>AG-38T - EMBALAGEM ALIMENTICIA</td>\n",
       "      <td>3</td>\n",
       "      <td>2</td>\n",
       "      <td>5.0</td>\n",
       "      <td>MC COMERCIO</td>\n",
       "    </tr>\n",
       "  </tbody>\n",
       "</table>\n",
       "</div>"
      ],
      "text/plain": [
       "              DATA_VENDA  COD_FORNECEDOR  COD_CLIENTE  COD_RODUTO  \\\n",
       "8040 2015-03-02 13:05:32              83           74           3   \n",
       "8041 2015-03-02 13:05:32              83           74          48   \n",
       "8042 2015-03-02 13:05:32              83           74          62   \n",
       "8043 2015-03-03 14:57:44              83           11           1   \n",
       "8044 2015-03-03 14:57:44              83           11           2   \n",
       "\n",
       "                        DESC_PRODUTO  COD_GRUPO  COD_SUBGRUPO  QUANT_VENDIDA  \\\n",
       "8040  AG-70T - EMBALAGEM ALIMENTICIA          3             3            1.0   \n",
       "8041  APN65T - EMBALAGEM ALIMENTICIA          6            48            1.0   \n",
       "8042       B1TA FILMES TRANSPARENTES          8             1            2.0   \n",
       "8043  AG-50T - EMBALAGEM ALIMENTICIA          3             4            5.0   \n",
       "8044  AG-38T - EMBALAGEM ALIMENTICIA          3             2            5.0   \n",
       "\n",
       "          EMRPESA  \n",
       "8040  MC COMERCIO  \n",
       "8041  MC COMERCIO  \n",
       "8042  MC COMERCIO  \n",
       "8043  MC COMERCIO  \n",
       "8044  MC COMERCIO  "
      ]
     },
     "execution_count": 63,
     "metadata": {},
     "output_type": "execute_result"
    }
   ],
   "source": [
    "df_filtrado15.head()"
   ]
  },
  {
   "cell_type": "code",
   "execution_count": null,
   "id": "e6b8ac75",
   "metadata": {},
   "outputs": [],
   "source": []
  },
  {
   "cell_type": "code",
   "execution_count": 53,
   "id": "72f05ce4",
   "metadata": {},
   "outputs": [],
   "source": [
    "selecao16 = (df['DATA_VENDA'] >= '2016-01-01') & (df['DATA_VENDA'] <= '2016-12-31')"
   ]
  },
  {
   "cell_type": "code",
   "execution_count": 54,
   "id": "eddd0431",
   "metadata": {},
   "outputs": [],
   "source": [
    "df_filtrado16 = df[selecao16]"
   ]
  },
  {
   "cell_type": "code",
   "execution_count": 55,
   "id": "7e0e3051",
   "metadata": {},
   "outputs": [
    {
     "data": {
      "text/html": [
       "<div>\n",
       "<style scoped>\n",
       "    .dataframe tbody tr th:only-of-type {\n",
       "        vertical-align: middle;\n",
       "    }\n",
       "\n",
       "    .dataframe tbody tr th {\n",
       "        vertical-align: top;\n",
       "    }\n",
       "\n",
       "    .dataframe thead th {\n",
       "        text-align: right;\n",
       "    }\n",
       "</style>\n",
       "<table border=\"1\" class=\"dataframe\">\n",
       "  <thead>\n",
       "    <tr style=\"text-align: right;\">\n",
       "      <th></th>\n",
       "      <th>DATA_VENDA</th>\n",
       "      <th>COD_FORNECEDOR</th>\n",
       "      <th>COD_CLIENTE</th>\n",
       "      <th>COD_RODUTO</th>\n",
       "      <th>DESC_PRODUTO</th>\n",
       "      <th>COD_GRUPO</th>\n",
       "      <th>COD_SUBGRUPO</th>\n",
       "      <th>QUANT_VENDIDA</th>\n",
       "      <th>EMRPESA</th>\n",
       "    </tr>\n",
       "  </thead>\n",
       "  <tbody>\n",
       "    <tr>\n",
       "      <th>11412</th>\n",
       "      <td>2016-01-04 10:47:43</td>\n",
       "      <td>83</td>\n",
       "      <td>98</td>\n",
       "      <td>3</td>\n",
       "      <td>AG-70T - EMBALAGEM ALIMENTICIA</td>\n",
       "      <td>3</td>\n",
       "      <td>3</td>\n",
       "      <td>1.0</td>\n",
       "      <td>MC COMERCIO</td>\n",
       "    </tr>\n",
       "    <tr>\n",
       "      <th>11413</th>\n",
       "      <td>2016-01-04 10:47:43</td>\n",
       "      <td>83</td>\n",
       "      <td>98</td>\n",
       "      <td>60</td>\n",
       "      <td>B1T FILMES TRANSPARENES</td>\n",
       "      <td>8</td>\n",
       "      <td>60</td>\n",
       "      <td>1.0</td>\n",
       "      <td>MC COMERCIO</td>\n",
       "    </tr>\n",
       "    <tr>\n",
       "      <th>11414</th>\n",
       "      <td>2016-01-05 14:26:59</td>\n",
       "      <td>83</td>\n",
       "      <td>111</td>\n",
       "      <td>2</td>\n",
       "      <td>AG-38T - EMBALAGEM ALIMENTICIA</td>\n",
       "      <td>3</td>\n",
       "      <td>2</td>\n",
       "      <td>10.0</td>\n",
       "      <td>MC COMERCIO</td>\n",
       "    </tr>\n",
       "    <tr>\n",
       "      <th>11415</th>\n",
       "      <td>2016-01-05 14:26:59</td>\n",
       "      <td>83</td>\n",
       "      <td>111</td>\n",
       "      <td>60</td>\n",
       "      <td>B1T FILMES TRANSPARENES</td>\n",
       "      <td>8</td>\n",
       "      <td>60</td>\n",
       "      <td>1.0</td>\n",
       "      <td>MC COMERCIO</td>\n",
       "    </tr>\n",
       "    <tr>\n",
       "      <th>11416</th>\n",
       "      <td>2016-01-05 14:35:12</td>\n",
       "      <td>83</td>\n",
       "      <td>111</td>\n",
       "      <td>62</td>\n",
       "      <td>B1TA FILMES TRANSPARENTES</td>\n",
       "      <td>8</td>\n",
       "      <td>1</td>\n",
       "      <td>5.0</td>\n",
       "      <td>MC COMERCIO</td>\n",
       "    </tr>\n",
       "  </tbody>\n",
       "</table>\n",
       "</div>"
      ],
      "text/plain": [
       "               DATA_VENDA  COD_FORNECEDOR  COD_CLIENTE  COD_RODUTO  \\\n",
       "11412 2016-01-04 10:47:43              83           98           3   \n",
       "11413 2016-01-04 10:47:43              83           98          60   \n",
       "11414 2016-01-05 14:26:59              83          111           2   \n",
       "11415 2016-01-05 14:26:59              83          111          60   \n",
       "11416 2016-01-05 14:35:12              83          111          62   \n",
       "\n",
       "                         DESC_PRODUTO  COD_GRUPO  COD_SUBGRUPO  QUANT_VENDIDA  \\\n",
       "11412  AG-70T - EMBALAGEM ALIMENTICIA          3             3            1.0   \n",
       "11413         B1T FILMES TRANSPARENES          8            60            1.0   \n",
       "11414  AG-38T - EMBALAGEM ALIMENTICIA          3             2           10.0   \n",
       "11415         B1T FILMES TRANSPARENES          8            60            1.0   \n",
       "11416       B1TA FILMES TRANSPARENTES          8             1            5.0   \n",
       "\n",
       "           EMRPESA  \n",
       "11412  MC COMERCIO  \n",
       "11413  MC COMERCIO  \n",
       "11414  MC COMERCIO  \n",
       "11415  MC COMERCIO  \n",
       "11416  MC COMERCIO  "
      ]
     },
     "execution_count": 55,
     "metadata": {},
     "output_type": "execute_result"
    }
   ],
   "source": [
    "df_filtrado16.head()"
   ]
  },
  {
   "cell_type": "code",
   "execution_count": 46,
   "id": "184157f9",
   "metadata": {},
   "outputs": [],
   "source": [
    "selecao17 = (df['DATA_VENDA'] >= '2017-01-01') & (df['DATA_VENDA'] <= '2017-12-31')"
   ]
  },
  {
   "cell_type": "code",
   "execution_count": 47,
   "id": "b9eeece4",
   "metadata": {},
   "outputs": [],
   "source": [
    "df_filtrado17 = df[selecao17]"
   ]
  },
  {
   "cell_type": "code",
   "execution_count": 48,
   "id": "cbb42c60",
   "metadata": {},
   "outputs": [
    {
     "data": {
      "text/html": [
       "<div>\n",
       "<style scoped>\n",
       "    .dataframe tbody tr th:only-of-type {\n",
       "        vertical-align: middle;\n",
       "    }\n",
       "\n",
       "    .dataframe tbody tr th {\n",
       "        vertical-align: top;\n",
       "    }\n",
       "\n",
       "    .dataframe thead th {\n",
       "        text-align: right;\n",
       "    }\n",
       "</style>\n",
       "<table border=\"1\" class=\"dataframe\">\n",
       "  <thead>\n",
       "    <tr style=\"text-align: right;\">\n",
       "      <th></th>\n",
       "      <th>DATA_VENDA</th>\n",
       "      <th>COD_FORNECEDOR</th>\n",
       "      <th>COD_CLIENTE</th>\n",
       "      <th>COD_RODUTO</th>\n",
       "      <th>DESC_PRODUTO</th>\n",
       "      <th>COD_GRUPO</th>\n",
       "      <th>COD_SUBGRUPO</th>\n",
       "      <th>QUANT_VENDIDA</th>\n",
       "      <th>EMRPESA</th>\n",
       "    </tr>\n",
       "  </thead>\n",
       "  <tbody>\n",
       "    <tr>\n",
       "      <th>15625</th>\n",
       "      <td>2017-01-02 17:26:34</td>\n",
       "      <td>83</td>\n",
       "      <td>149</td>\n",
       "      <td>7</td>\n",
       "      <td>AG85TP - EMBALAGEM ALIMENTICIA</td>\n",
       "      <td>3</td>\n",
       "      <td>7</td>\n",
       "      <td>2.0</td>\n",
       "      <td>MC COMERCIO</td>\n",
       "    </tr>\n",
       "    <tr>\n",
       "      <th>15626</th>\n",
       "      <td>2017-01-02 17:29:32</td>\n",
       "      <td>83</td>\n",
       "      <td>80</td>\n",
       "      <td>10</td>\n",
       "      <td>AL50T  EMBALAGEM ALIMENTICIA</td>\n",
       "      <td>4</td>\n",
       "      <td>10</td>\n",
       "      <td>5.0</td>\n",
       "      <td>MC COMERCIO</td>\n",
       "    </tr>\n",
       "    <tr>\n",
       "      <th>15627</th>\n",
       "      <td>2017-01-02 17:29:32</td>\n",
       "      <td>83</td>\n",
       "      <td>80</td>\n",
       "      <td>65</td>\n",
       "      <td>B2TA FILMES TRANSPARENTES</td>\n",
       "      <td>8</td>\n",
       "      <td>65</td>\n",
       "      <td>2.0</td>\n",
       "      <td>MC COMERCIO</td>\n",
       "    </tr>\n",
       "    <tr>\n",
       "      <th>15628</th>\n",
       "      <td>2017-01-03 10:44:51</td>\n",
       "      <td>83</td>\n",
       "      <td>100</td>\n",
       "      <td>1</td>\n",
       "      <td>AG-50T - EMBALAGEM ALIMENTICIA</td>\n",
       "      <td>3</td>\n",
       "      <td>4</td>\n",
       "      <td>1.0</td>\n",
       "      <td>MC COMERCIO</td>\n",
       "    </tr>\n",
       "    <tr>\n",
       "      <th>15629</th>\n",
       "      <td>2017-01-03 10:45:50</td>\n",
       "      <td>83</td>\n",
       "      <td>20</td>\n",
       "      <td>1</td>\n",
       "      <td>AG-50T - EMBALAGEM ALIMENTICIA</td>\n",
       "      <td>3</td>\n",
       "      <td>4</td>\n",
       "      <td>1.0</td>\n",
       "      <td>MC COMERCIO</td>\n",
       "    </tr>\n",
       "  </tbody>\n",
       "</table>\n",
       "</div>"
      ],
      "text/plain": [
       "               DATA_VENDA  COD_FORNECEDOR  COD_CLIENTE  COD_RODUTO  \\\n",
       "15625 2017-01-02 17:26:34              83          149           7   \n",
       "15626 2017-01-02 17:29:32              83           80          10   \n",
       "15627 2017-01-02 17:29:32              83           80          65   \n",
       "15628 2017-01-03 10:44:51              83          100           1   \n",
       "15629 2017-01-03 10:45:50              83           20           1   \n",
       "\n",
       "                         DESC_PRODUTO  COD_GRUPO  COD_SUBGRUPO  QUANT_VENDIDA  \\\n",
       "15625  AG85TP - EMBALAGEM ALIMENTICIA          3             7            2.0   \n",
       "15626    AL50T  EMBALAGEM ALIMENTICIA          4            10            5.0   \n",
       "15627       B2TA FILMES TRANSPARENTES          8            65            2.0   \n",
       "15628  AG-50T - EMBALAGEM ALIMENTICIA          3             4            1.0   \n",
       "15629  AG-50T - EMBALAGEM ALIMENTICIA          3             4            1.0   \n",
       "\n",
       "           EMRPESA  \n",
       "15625  MC COMERCIO  \n",
       "15626  MC COMERCIO  \n",
       "15627  MC COMERCIO  \n",
       "15628  MC COMERCIO  \n",
       "15629  MC COMERCIO  "
      ]
     },
     "execution_count": 48,
     "metadata": {},
     "output_type": "execute_result"
    }
   ],
   "source": [
    "df_filtrado17.head()"
   ]
  },
  {
   "cell_type": "code",
   "execution_count": null,
   "id": "d5f86a00",
   "metadata": {},
   "outputs": [],
   "source": []
  },
  {
   "cell_type": "code",
   "execution_count": 39,
   "id": "10dfd17a",
   "metadata": {},
   "outputs": [],
   "source": [
    "selecao18 = (df['DATA_VENDA'] >= '2018-01-01') & (df['DATA_VENDA'] <= '2018-12-31')"
   ]
  },
  {
   "cell_type": "code",
   "execution_count": 40,
   "id": "fcf654a8",
   "metadata": {},
   "outputs": [],
   "source": [
    "df_filtrado18 = df[selecao18]"
   ]
  },
  {
   "cell_type": "code",
   "execution_count": 41,
   "id": "cc0de1a2",
   "metadata": {},
   "outputs": [
    {
     "data": {
      "text/html": [
       "<div>\n",
       "<style scoped>\n",
       "    .dataframe tbody tr th:only-of-type {\n",
       "        vertical-align: middle;\n",
       "    }\n",
       "\n",
       "    .dataframe tbody tr th {\n",
       "        vertical-align: top;\n",
       "    }\n",
       "\n",
       "    .dataframe thead th {\n",
       "        text-align: right;\n",
       "    }\n",
       "</style>\n",
       "<table border=\"1\" class=\"dataframe\">\n",
       "  <thead>\n",
       "    <tr style=\"text-align: right;\">\n",
       "      <th></th>\n",
       "      <th>DATA_VENDA</th>\n",
       "      <th>COD_FORNECEDOR</th>\n",
       "      <th>COD_CLIENTE</th>\n",
       "      <th>COD_RODUTO</th>\n",
       "      <th>DESC_PRODUTO</th>\n",
       "      <th>COD_GRUPO</th>\n",
       "      <th>COD_SUBGRUPO</th>\n",
       "      <th>QUANT_VENDIDA</th>\n",
       "      <th>EMRPESA</th>\n",
       "    </tr>\n",
       "  </thead>\n",
       "  <tbody>\n",
       "    <tr>\n",
       "      <th>3984</th>\n",
       "      <td>2018-12-26 15:31:40</td>\n",
       "      <td>83</td>\n",
       "      <td>27</td>\n",
       "      <td>2</td>\n",
       "      <td>AG-38T - EMBALAGEM ALIMENTICIA</td>\n",
       "      <td>3</td>\n",
       "      <td>1</td>\n",
       "      <td>1.0</td>\n",
       "      <td>ALF</td>\n",
       "    </tr>\n",
       "    <tr>\n",
       "      <th>22660</th>\n",
       "      <td>2018-01-02 09:48:00</td>\n",
       "      <td>83</td>\n",
       "      <td>149</td>\n",
       "      <td>7</td>\n",
       "      <td>AG85TP - EMBALAGEM ALIMENTICIA</td>\n",
       "      <td>3</td>\n",
       "      <td>7</td>\n",
       "      <td>5.0</td>\n",
       "      <td>MC COMERCIO</td>\n",
       "    </tr>\n",
       "    <tr>\n",
       "      <th>22661</th>\n",
       "      <td>2018-01-02 09:48:00</td>\n",
       "      <td>83</td>\n",
       "      <td>149</td>\n",
       "      <td>65</td>\n",
       "      <td>B2TA FILMES TRANSPARENTES</td>\n",
       "      <td>8</td>\n",
       "      <td>65</td>\n",
       "      <td>2.0</td>\n",
       "      <td>MC COMERCIO</td>\n",
       "    </tr>\n",
       "    <tr>\n",
       "      <th>22662</th>\n",
       "      <td>2018-01-02 11:44:49</td>\n",
       "      <td>83</td>\n",
       "      <td>11</td>\n",
       "      <td>2</td>\n",
       "      <td>AG-38T - EMBALAGEM ALIMENTICIA</td>\n",
       "      <td>3</td>\n",
       "      <td>2</td>\n",
       "      <td>6.0</td>\n",
       "      <td>MC COMERCIO</td>\n",
       "    </tr>\n",
       "    <tr>\n",
       "      <th>22663</th>\n",
       "      <td>2018-01-02 11:44:49</td>\n",
       "      <td>83</td>\n",
       "      <td>11</td>\n",
       "      <td>20</td>\n",
       "      <td>APR45T - EMBALAGEM ALIMENTICIA</td>\n",
       "      <td>7</td>\n",
       "      <td>20</td>\n",
       "      <td>1.0</td>\n",
       "      <td>MC COMERCIO</td>\n",
       "    </tr>\n",
       "  </tbody>\n",
       "</table>\n",
       "</div>"
      ],
      "text/plain": [
       "               DATA_VENDA  COD_FORNECEDOR  COD_CLIENTE  COD_RODUTO  \\\n",
       "3984  2018-12-26 15:31:40              83           27           2   \n",
       "22660 2018-01-02 09:48:00              83          149           7   \n",
       "22661 2018-01-02 09:48:00              83          149          65   \n",
       "22662 2018-01-02 11:44:49              83           11           2   \n",
       "22663 2018-01-02 11:44:49              83           11          20   \n",
       "\n",
       "                         DESC_PRODUTO  COD_GRUPO  COD_SUBGRUPO  QUANT_VENDIDA  \\\n",
       "3984   AG-38T - EMBALAGEM ALIMENTICIA          3             1            1.0   \n",
       "22660  AG85TP - EMBALAGEM ALIMENTICIA          3             7            5.0   \n",
       "22661       B2TA FILMES TRANSPARENTES          8            65            2.0   \n",
       "22662  AG-38T - EMBALAGEM ALIMENTICIA          3             2            6.0   \n",
       "22663  APR45T - EMBALAGEM ALIMENTICIA          7            20            1.0   \n",
       "\n",
       "           EMRPESA  \n",
       "3984           ALF  \n",
       "22660  MC COMERCIO  \n",
       "22661  MC COMERCIO  \n",
       "22662  MC COMERCIO  \n",
       "22663  MC COMERCIO  "
      ]
     },
     "execution_count": 41,
     "metadata": {},
     "output_type": "execute_result"
    }
   ],
   "source": [
    "df_filtrado18.head()"
   ]
  },
  {
   "cell_type": "code",
   "execution_count": null,
   "id": "8eecf9a4",
   "metadata": {},
   "outputs": [],
   "source": []
  },
  {
   "cell_type": "code",
   "execution_count": 27,
   "id": "460c91cb",
   "metadata": {},
   "outputs": [],
   "source": [
    "selecao19 = (df['DATA_VENDA'] >= '2019-01-01') & (df['DATA_VENDA'] <= '2019-12-31')"
   ]
  },
  {
   "cell_type": "code",
   "execution_count": 28,
   "id": "98b50a87",
   "metadata": {},
   "outputs": [],
   "source": [
    "df_filtrado19 = df[selecao19]"
   ]
  },
  {
   "cell_type": "code",
   "execution_count": 29,
   "id": "51c7716b",
   "metadata": {},
   "outputs": [
    {
     "data": {
      "text/html": [
       "<div>\n",
       "<style scoped>\n",
       "    .dataframe tbody tr th:only-of-type {\n",
       "        vertical-align: middle;\n",
       "    }\n",
       "\n",
       "    .dataframe tbody tr th {\n",
       "        vertical-align: top;\n",
       "    }\n",
       "\n",
       "    .dataframe thead th {\n",
       "        text-align: right;\n",
       "    }\n",
       "</style>\n",
       "<table border=\"1\" class=\"dataframe\">\n",
       "  <thead>\n",
       "    <tr style=\"text-align: right;\">\n",
       "      <th></th>\n",
       "      <th>DATA_VENDA</th>\n",
       "      <th>COD_FORNECEDOR</th>\n",
       "      <th>COD_CLIENTE</th>\n",
       "      <th>COD_RODUTO</th>\n",
       "      <th>DESC_PRODUTO</th>\n",
       "      <th>COD_GRUPO</th>\n",
       "      <th>COD_SUBGRUPO</th>\n",
       "      <th>QUANT_VENDIDA</th>\n",
       "      <th>EMRPESA</th>\n",
       "    </tr>\n",
       "  </thead>\n",
       "  <tbody>\n",
       "    <tr>\n",
       "      <th>3985</th>\n",
       "      <td>2019-01-02 14:34:59</td>\n",
       "      <td>83</td>\n",
       "      <td>33</td>\n",
       "      <td>2</td>\n",
       "      <td>AG-38T - EMBALAGEM ALIMENTICIA</td>\n",
       "      <td>3</td>\n",
       "      <td>1</td>\n",
       "      <td>2.0</td>\n",
       "      <td>ALF</td>\n",
       "    </tr>\n",
       "    <tr>\n",
       "      <th>3986</th>\n",
       "      <td>2019-01-03 09:57:43</td>\n",
       "      <td>83</td>\n",
       "      <td>70</td>\n",
       "      <td>2</td>\n",
       "      <td>AG-38T - EMBALAGEM ALIMENTICIA</td>\n",
       "      <td>3</td>\n",
       "      <td>1</td>\n",
       "      <td>1.0</td>\n",
       "      <td>ALF</td>\n",
       "    </tr>\n",
       "    <tr>\n",
       "      <th>3987</th>\n",
       "      <td>2019-01-03 09:57:43</td>\n",
       "      <td>83</td>\n",
       "      <td>70</td>\n",
       "      <td>65</td>\n",
       "      <td>B2TA FILMES TRANSPARENES</td>\n",
       "      <td>8</td>\n",
       "      <td>1</td>\n",
       "      <td>1.0</td>\n",
       "      <td>ALF</td>\n",
       "    </tr>\n",
       "    <tr>\n",
       "      <th>3988</th>\n",
       "      <td>2019-01-03 17:43:43</td>\n",
       "      <td>83</td>\n",
       "      <td>99</td>\n",
       "      <td>65</td>\n",
       "      <td>B2TA FILMES TRANSPARENES</td>\n",
       "      <td>8</td>\n",
       "      <td>1</td>\n",
       "      <td>2.0</td>\n",
       "      <td>ALF</td>\n",
       "    </tr>\n",
       "    <tr>\n",
       "      <th>3989</th>\n",
       "      <td>2019-01-03 17:45:22</td>\n",
       "      <td>83</td>\n",
       "      <td>110</td>\n",
       "      <td>2</td>\n",
       "      <td>AG-38T - EMBALAGEM ALIMENTICIA</td>\n",
       "      <td>3</td>\n",
       "      <td>1</td>\n",
       "      <td>2.0</td>\n",
       "      <td>ALF</td>\n",
       "    </tr>\n",
       "  </tbody>\n",
       "</table>\n",
       "</div>"
      ],
      "text/plain": [
       "              DATA_VENDA  COD_FORNECEDOR  COD_CLIENTE  COD_RODUTO  \\\n",
       "3985 2019-01-02 14:34:59              83           33           2   \n",
       "3986 2019-01-03 09:57:43              83           70           2   \n",
       "3987 2019-01-03 09:57:43              83           70          65   \n",
       "3988 2019-01-03 17:43:43              83           99          65   \n",
       "3989 2019-01-03 17:45:22              83          110           2   \n",
       "\n",
       "                        DESC_PRODUTO  COD_GRUPO  COD_SUBGRUPO  QUANT_VENDIDA  \\\n",
       "3985  AG-38T - EMBALAGEM ALIMENTICIA          3             1            2.0   \n",
       "3986  AG-38T - EMBALAGEM ALIMENTICIA          3             1            1.0   \n",
       "3987        B2TA FILMES TRANSPARENES          8             1            1.0   \n",
       "3988        B2TA FILMES TRANSPARENES          8             1            2.0   \n",
       "3989  AG-38T - EMBALAGEM ALIMENTICIA          3             1            2.0   \n",
       "\n",
       "     EMRPESA  \n",
       "3985     ALF  \n",
       "3986     ALF  \n",
       "3987     ALF  \n",
       "3988     ALF  \n",
       "3989     ALF  "
      ]
     },
     "execution_count": 29,
     "metadata": {},
     "output_type": "execute_result"
    }
   ],
   "source": [
    "df_filtrado19.head()"
   ]
  },
  {
   "cell_type": "code",
   "execution_count": null,
   "id": "ebb289f1",
   "metadata": {},
   "outputs": [],
   "source": []
  },
  {
   "cell_type": "code",
   "execution_count": 20,
   "id": "22b0785b",
   "metadata": {},
   "outputs": [],
   "source": [
    "selecao20 = (df['DATA_VENDA'] >= '2020-01-01') & (df['DATA_VENDA'] <= '2020-12-31')"
   ]
  },
  {
   "cell_type": "code",
   "execution_count": 21,
   "id": "5b4cd6b3",
   "metadata": {},
   "outputs": [],
   "source": [
    "df_filtrado20 = df[selecao20]"
   ]
  },
  {
   "cell_type": "code",
   "execution_count": 22,
   "id": "665537ed",
   "metadata": {},
   "outputs": [
    {
     "data": {
      "text/html": [
       "<div>\n",
       "<style scoped>\n",
       "    .dataframe tbody tr th:only-of-type {\n",
       "        vertical-align: middle;\n",
       "    }\n",
       "\n",
       "    .dataframe tbody tr th {\n",
       "        vertical-align: top;\n",
       "    }\n",
       "\n",
       "    .dataframe thead th {\n",
       "        text-align: right;\n",
       "    }\n",
       "</style>\n",
       "<table border=\"1\" class=\"dataframe\">\n",
       "  <thead>\n",
       "    <tr style=\"text-align: right;\">\n",
       "      <th></th>\n",
       "      <th>DATA_VENDA</th>\n",
       "      <th>COD_FORNECEDOR</th>\n",
       "      <th>COD_CLIENTE</th>\n",
       "      <th>COD_RODUTO</th>\n",
       "      <th>DESC_PRODUTO</th>\n",
       "      <th>COD_GRUPO</th>\n",
       "      <th>COD_SUBGRUPO</th>\n",
       "      <th>QUANT_VENDIDA</th>\n",
       "      <th>EMRPESA</th>\n",
       "    </tr>\n",
       "  </thead>\n",
       "  <tbody>\n",
       "    <tr>\n",
       "      <th>7446</th>\n",
       "      <td>2020-01-02 15:56:00</td>\n",
       "      <td>83</td>\n",
       "      <td>575</td>\n",
       "      <td>219</td>\n",
       "      <td>B1ITA FILMES TRANSPARENES</td>\n",
       "      <td>8</td>\n",
       "      <td>1</td>\n",
       "      <td>1.0</td>\n",
       "      <td>ALF</td>\n",
       "    </tr>\n",
       "    <tr>\n",
       "      <th>7447</th>\n",
       "      <td>2020-01-02 15:56:00</td>\n",
       "      <td>83</td>\n",
       "      <td>575</td>\n",
       "      <td>249</td>\n",
       "      <td>AG-50T BLACK - EMBALAGEM ALIMENTICIA</td>\n",
       "      <td>3</td>\n",
       "      <td>1</td>\n",
       "      <td>1.0</td>\n",
       "      <td>ALF</td>\n",
       "    </tr>\n",
       "    <tr>\n",
       "      <th>7448</th>\n",
       "      <td>2020-01-04 06:15:00</td>\n",
       "      <td>83</td>\n",
       "      <td>588</td>\n",
       "      <td>209</td>\n",
       "      <td>AL50T C/ DIVISORIAS  EMBALAGEM ALIMENTICIA</td>\n",
       "      <td>4</td>\n",
       "      <td>1</td>\n",
       "      <td>1.0</td>\n",
       "      <td>ALF</td>\n",
       "    </tr>\n",
       "    <tr>\n",
       "      <th>7449</th>\n",
       "      <td>2020-01-06 09:30:00</td>\n",
       "      <td>83</td>\n",
       "      <td>130</td>\n",
       "      <td>1</td>\n",
       "      <td>AG-50T - EMBALAGEM ALIMENTICIA</td>\n",
       "      <td>3</td>\n",
       "      <td>1</td>\n",
       "      <td>2.0</td>\n",
       "      <td>ALF</td>\n",
       "    </tr>\n",
       "    <tr>\n",
       "      <th>7450</th>\n",
       "      <td>2020-01-06 09:30:00</td>\n",
       "      <td>83</td>\n",
       "      <td>130</td>\n",
       "      <td>209</td>\n",
       "      <td>AL50T C/ DIVISORIAS  EMBALAGEM ALIMENTICIA</td>\n",
       "      <td>4</td>\n",
       "      <td>1</td>\n",
       "      <td>2.0</td>\n",
       "      <td>ALF</td>\n",
       "    </tr>\n",
       "  </tbody>\n",
       "</table>\n",
       "</div>"
      ],
      "text/plain": [
       "              DATA_VENDA  COD_FORNECEDOR  COD_CLIENTE  COD_RODUTO  \\\n",
       "7446 2020-01-02 15:56:00              83          575         219   \n",
       "7447 2020-01-02 15:56:00              83          575         249   \n",
       "7448 2020-01-04 06:15:00              83          588         209   \n",
       "7449 2020-01-06 09:30:00              83          130           1   \n",
       "7450 2020-01-06 09:30:00              83          130         209   \n",
       "\n",
       "                                    DESC_PRODUTO  COD_GRUPO  COD_SUBGRUPO  \\\n",
       "7446                   B1ITA FILMES TRANSPARENES          8             1   \n",
       "7447        AG-50T BLACK - EMBALAGEM ALIMENTICIA          3             1   \n",
       "7448  AL50T C/ DIVISORIAS  EMBALAGEM ALIMENTICIA          4             1   \n",
       "7449              AG-50T - EMBALAGEM ALIMENTICIA          3             1   \n",
       "7450  AL50T C/ DIVISORIAS  EMBALAGEM ALIMENTICIA          4             1   \n",
       "\n",
       "      QUANT_VENDIDA EMRPESA  \n",
       "7446            1.0     ALF  \n",
       "7447            1.0     ALF  \n",
       "7448            1.0     ALF  \n",
       "7449            2.0     ALF  \n",
       "7450            2.0     ALF  "
      ]
     },
     "execution_count": 22,
     "metadata": {},
     "output_type": "execute_result"
    }
   ],
   "source": [
    "df_filtrado20.head()"
   ]
  },
  {
   "cell_type": "code",
   "execution_count": null,
   "id": "c5642025",
   "metadata": {},
   "outputs": [],
   "source": []
  },
  {
   "cell_type": "code",
   "execution_count": 5,
   "id": "e9f8652b",
   "metadata": {},
   "outputs": [],
   "source": [
    "selecao21 = (df['DATA_VENDA'] >= '2021-01-01') & (df['DATA_VENDA'] <= '2021-12-31')"
   ]
  },
  {
   "cell_type": "code",
   "execution_count": 6,
   "id": "9135869f",
   "metadata": {},
   "outputs": [],
   "source": [
    "df_filtrado21 = df[selecao21]"
   ]
  },
  {
   "cell_type": "code",
   "execution_count": 7,
   "id": "76fa00a9",
   "metadata": {},
   "outputs": [
    {
     "data": {
      "text/html": [
       "<div>\n",
       "<style scoped>\n",
       "    .dataframe tbody tr th:only-of-type {\n",
       "        vertical-align: middle;\n",
       "    }\n",
       "\n",
       "    .dataframe tbody tr th {\n",
       "        vertical-align: top;\n",
       "    }\n",
       "\n",
       "    .dataframe thead th {\n",
       "        text-align: right;\n",
       "    }\n",
       "</style>\n",
       "<table border=\"1\" class=\"dataframe\">\n",
       "  <thead>\n",
       "    <tr style=\"text-align: right;\">\n",
       "      <th></th>\n",
       "      <th>DATA_VENDA</th>\n",
       "      <th>COD_FORNECEDOR</th>\n",
       "      <th>COD_CLIENTE</th>\n",
       "      <th>COD_RODUTO</th>\n",
       "      <th>DESC_PRODUTO</th>\n",
       "      <th>COD_GRUPO</th>\n",
       "      <th>COD_SUBGRUPO</th>\n",
       "      <th>QUANT_VENDIDA</th>\n",
       "      <th>EMRPESA</th>\n",
       "    </tr>\n",
       "  </thead>\n",
       "  <tbody>\n",
       "    <tr>\n",
       "      <th>0</th>\n",
       "      <td>2021-05-10 14:05:20</td>\n",
       "      <td>34</td>\n",
       "      <td>108</td>\n",
       "      <td>332</td>\n",
       "      <td>PAPEL KRAFT NATURAL 80GR 76X112 250 FLS</td>\n",
       "      <td>15</td>\n",
       "      <td>1</td>\n",
       "      <td>16.0</td>\n",
       "      <td>ALFPACK</td>\n",
       "    </tr>\n",
       "    <tr>\n",
       "      <th>1</th>\n",
       "      <td>2021-05-10 14:05:20</td>\n",
       "      <td>239</td>\n",
       "      <td>108</td>\n",
       "      <td>330</td>\n",
       "      <td>PAPEL KRAFT KLALINER 100 G 76X120CM 200FL</td>\n",
       "      <td>15</td>\n",
       "      <td>1</td>\n",
       "      <td>4.0</td>\n",
       "      <td>ALFPACK</td>\n",
       "    </tr>\n",
       "    <tr>\n",
       "      <th>2</th>\n",
       "      <td>2021-05-11 16:27:26</td>\n",
       "      <td>207</td>\n",
       "      <td>108</td>\n",
       "      <td>243</td>\n",
       "      <td>YG-38 - CX 500 EMBALAGEM ALIMENTICIA</td>\n",
       "      <td>3</td>\n",
       "      <td>243</td>\n",
       "      <td>1.0</td>\n",
       "      <td>ALFPACK</td>\n",
       "    </tr>\n",
       "    <tr>\n",
       "      <th>3</th>\n",
       "      <td>2021-05-13 16:12:09</td>\n",
       "      <td>207</td>\n",
       "      <td>541</td>\n",
       "      <td>363</td>\n",
       "      <td>YG-70 - CX 400  EMBALAGEM ALIMENTICIA</td>\n",
       "      <td>3</td>\n",
       "      <td>363</td>\n",
       "      <td>1.0</td>\n",
       "      <td>ALFPACK</td>\n",
       "    </tr>\n",
       "    <tr>\n",
       "      <th>4</th>\n",
       "      <td>2021-05-13 16:25:40</td>\n",
       "      <td>207</td>\n",
       "      <td>487</td>\n",
       "      <td>363</td>\n",
       "      <td>YG-70 - CX 400  EMBALAGEM ALIMENTICIA</td>\n",
       "      <td>3</td>\n",
       "      <td>363</td>\n",
       "      <td>2.0</td>\n",
       "      <td>ALFPACK</td>\n",
       "    </tr>\n",
       "  </tbody>\n",
       "</table>\n",
       "</div>"
      ],
      "text/plain": [
       "           DATA_VENDA  COD_FORNECEDOR  COD_CLIENTE  COD_RODUTO  \\\n",
       "0 2021-05-10 14:05:20              34          108         332   \n",
       "1 2021-05-10 14:05:20             239          108         330   \n",
       "2 2021-05-11 16:27:26             207          108         243   \n",
       "3 2021-05-13 16:12:09             207          541         363   \n",
       "4 2021-05-13 16:25:40             207          487         363   \n",
       "\n",
       "                                DESC_PRODUTO  COD_GRUPO  COD_SUBGRUPO  \\\n",
       "0    PAPEL KRAFT NATURAL 80GR 76X112 250 FLS         15             1   \n",
       "1  PAPEL KRAFT KLALINER 100 G 76X120CM 200FL         15             1   \n",
       "2       YG-38 - CX 500 EMBALAGEM ALIMENTICIA          3           243   \n",
       "3      YG-70 - CX 400  EMBALAGEM ALIMENTICIA          3           363   \n",
       "4      YG-70 - CX 400  EMBALAGEM ALIMENTICIA          3           363   \n",
       "\n",
       "   QUANT_VENDIDA  EMRPESA  \n",
       "0           16.0  ALFPACK  \n",
       "1            4.0  ALFPACK  \n",
       "2            1.0  ALFPACK  \n",
       "3            1.0  ALFPACK  \n",
       "4            2.0  ALFPACK  "
      ]
     },
     "execution_count": 7,
     "metadata": {},
     "output_type": "execute_result"
    }
   ],
   "source": [
    "df_filtrado21.head()"
   ]
  },
  {
   "cell_type": "code",
   "execution_count": 8,
   "id": "ec2f6833",
   "metadata": {},
   "outputs": [],
   "source": [
    "df_filtrado21.to_excel(r'venda2021.xlsx', index = False)\n"
   ]
  },
  {
   "cell_type": "code",
   "execution_count": 58,
   "id": "093ae981",
   "metadata": {},
   "outputs": [
    {
     "name": "stdout",
     "output_type": "stream",
     "text": [
      "<class 'pandas.core.frame.DataFrame'>\n",
      "RangeIndex: 73225 entries, 0 to 73224\n",
      "Data columns (total 9 columns):\n",
      " #   Column          Non-Null Count  Dtype         \n",
      "---  ------          --------------  -----         \n",
      " 0   DATA_VENDA      73225 non-null  datetime64[ns]\n",
      " 1   COD_FORNECEDOR  73225 non-null  int64         \n",
      " 2   COD_CLIENTE     73225 non-null  int64         \n",
      " 3   COD_RODUTO      73225 non-null  int64         \n",
      " 4   DESC_PRODUTO    73225 non-null  object        \n",
      " 5   COD_GRUPO       73225 non-null  int64         \n",
      " 6   COD_SUBGRUPO    73225 non-null  int64         \n",
      " 7   QUANT_VENDIDA   73225 non-null  float64       \n",
      " 8   EMRPESA         73225 non-null  object        \n",
      "dtypes: datetime64[ns](1), float64(1), int64(5), object(2)\n",
      "memory usage: 5.0+ MB\n"
     ]
    }
   ],
   "source": [
    "df.info()"
   ]
  },
  {
   "cell_type": "code",
   "execution_count": null,
   "id": "1fa044e5",
   "metadata": {},
   "outputs": [],
   "source": []
  },
  {
   "cell_type": "code",
   "execution_count": 9,
   "id": "ff943777",
   "metadata": {},
   "outputs": [
    {
     "ename": "NameError",
     "evalue": "name 'df_filtrado15' is not defined",
     "output_type": "error",
     "traceback": [
      "\u001b[1;31m---------------------------------------------------------------------------\u001b[0m",
      "\u001b[1;31mNameError\u001b[0m                                 Traceback (most recent call last)",
      "\u001b[1;32m<ipython-input-9-019060d1da90>\u001b[0m in \u001b[0;36m<module>\u001b[1;34m\u001b[0m\n\u001b[1;32m----> 1\u001b[1;33m \u001b[0mdf_filtrado15\u001b[0m\u001b[1;33m.\u001b[0m\u001b[0mto_excel\u001b[0m\u001b[1;33m(\u001b[0m\u001b[1;34mr'venda2015.xlsx'\u001b[0m\u001b[1;33m,\u001b[0m \u001b[0mindex\u001b[0m \u001b[1;33m=\u001b[0m \u001b[1;32mFalse\u001b[0m\u001b[1;33m)\u001b[0m\u001b[1;33m\u001b[0m\u001b[1;33m\u001b[0m\u001b[0m\n\u001b[0m",
      "\u001b[1;31mNameError\u001b[0m: name 'df_filtrado15' is not defined"
     ]
    }
   ],
   "source": [
    "df_filtrado15.to_excel(r'venda2015.xlsx', index = False)"
   ]
  },
  {
   "cell_type": "code",
   "execution_count": null,
   "id": "9c3562fd",
   "metadata": {},
   "outputs": [],
   "source": []
  },
  {
   "cell_type": "code",
   "execution_count": 10,
   "id": "295986e0",
   "metadata": {},
   "outputs": [],
   "source": [
    "Total21 = df_filtrado21['QUANT_VENDIDA'].sum()"
   ]
  },
  {
   "cell_type": "code",
   "execution_count": 11,
   "id": "8b183da6",
   "metadata": {},
   "outputs": [
    {
     "name": "stdout",
     "output_type": "stream",
     "text": [
      "Column 1 sum: 4911930.352904558\n"
     ]
    }
   ],
   "source": [
    "print (\"Column 1 sum:\",Total21)\n"
   ]
  },
  {
   "cell_type": "code",
   "execution_count": 34,
   "id": "2a1ea8c0",
   "metadata": {},
   "outputs": [],
   "source": [
    "Total20 = df_filtrado20['QUANT_VENDIDA'].sum()"
   ]
  },
  {
   "cell_type": "code",
   "execution_count": 35,
   "id": "0c43aade",
   "metadata": {},
   "outputs": [
    {
     "name": "stdout",
     "output_type": "stream",
     "text": [
      "Column 1 sum: 8517749.0\n"
     ]
    }
   ],
   "source": [
    "print (\"Column 1 sum:\",Total20)\n"
   ]
  },
  {
   "cell_type": "code",
   "execution_count": 36,
   "id": "f5f4f560",
   "metadata": {},
   "outputs": [],
   "source": [
    "Total19 = df_filtrado19['QUANT_VENDIDA'].sum()"
   ]
  },
  {
   "cell_type": "code",
   "execution_count": 38,
   "id": "b7e31712",
   "metadata": {},
   "outputs": [
    {
     "name": "stdout",
     "output_type": "stream",
     "text": [
      "Column 1 sum: 6319070.0\n"
     ]
    }
   ],
   "source": [
    "print (\"Column 1 sum:\",Total19)"
   ]
  },
  {
   "cell_type": "code",
   "execution_count": 43,
   "id": "67f9128b",
   "metadata": {},
   "outputs": [],
   "source": [
    "Total18 = df_filtrado18['QUANT_VENDIDA'].sum()"
   ]
  },
  {
   "cell_type": "code",
   "execution_count": 45,
   "id": "966885bd",
   "metadata": {},
   "outputs": [
    {
     "name": "stdout",
     "output_type": "stream",
     "text": [
      "Column 1 sum: 5626992.0\n"
     ]
    }
   ],
   "source": [
    "print (\"Column 1 sum:\",Total18)"
   ]
  },
  {
   "cell_type": "code",
   "execution_count": 50,
   "id": "138b3eac",
   "metadata": {},
   "outputs": [],
   "source": [
    "Total17 = df_filtrado17['QUANT_VENDIDA'].sum()"
   ]
  },
  {
   "cell_type": "code",
   "execution_count": 52,
   "id": "92674dbd",
   "metadata": {},
   "outputs": [
    {
     "name": "stdout",
     "output_type": "stream",
     "text": [
      "Column 1 sum: 3421573.5\n"
     ]
    }
   ],
   "source": [
    "print (\"Column 1 sum:\",Total17)"
   ]
  },
  {
   "cell_type": "code",
   "execution_count": 57,
   "id": "ec3ffc82",
   "metadata": {},
   "outputs": [],
   "source": [
    "Total16 = df_filtrado16['QUANT_VENDIDA'].sum()"
   ]
  },
  {
   "cell_type": "code",
   "execution_count": 62,
   "id": "dcee6ce6",
   "metadata": {},
   "outputs": [
    {
     "name": "stdout",
     "output_type": "stream",
     "text": [
      "Column 1 sum: 9693.0\n"
     ]
    }
   ],
   "source": [
    "print (\"Column 1 sum:\",Total16)\n"
   ]
  },
  {
   "cell_type": "code",
   "execution_count": 65,
   "id": "f2ce247e",
   "metadata": {},
   "outputs": [],
   "source": [
    "Total15 = df_filtrado15['QUANT_VENDIDA'].sum()"
   ]
  },
  {
   "cell_type": "code",
   "execution_count": 72,
   "id": "3d97d19c",
   "metadata": {},
   "outputs": [
    {
     "name": "stdout",
     "output_type": "stream",
     "text": [
      "Column 1 sum: 7893.0\n"
     ]
    }
   ],
   "source": [
    "print (\"Column 1 sum:\",Total15)"
   ]
  },
  {
   "cell_type": "code",
   "execution_count": 78,
   "id": "290c4de2",
   "metadata": {},
   "outputs": [
    {
     "data": {
      "image/png": "[encoded data removed]",
      "text/plain": [
       "<Figure size 432x288 with 1 Axes>"
      ]
     },
     "metadata": {
      "needs_background": "light"
     },
     "output_type": "display_data"
    }
   ],
   "source": [
    "sns.boxplot( x=df_filtrado15[\"QUANT_VENDIDA\"], y=df_filtrado15[\"COD_GRUPO\"]);\n"
   ]
  }
 ],
 "metadata": {
  "kernelspec": {
   "display_name": "Python 3",
   "language": "python",
   "name": "python3"
  },
  "language_info": {
   "codemirror_mode": {
    "name": "ipython",
    "version": 3
   },
   "file_extension": ".py",
   "mimetype": "text/x-python",
   "name": "python",
   "nbconvert_exporter": "python",
   "pygments_lexer": "ipython3",
   "version": "3.8.8"
  }
 },
 "nbformat": 4,
 "nbformat_minor": 5
}
