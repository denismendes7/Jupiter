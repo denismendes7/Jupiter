{
 "cells": [
  {
   "cell_type": "code",
   "execution_count": 10,
   "id": "63353568",
   "metadata": {},
   "outputs": [
    {
     "ename": "ImportError",
     "evalue": "cannot import name 'format_dav' from 'format_dav' (/home/delfos/Downloads/dav_fosfatec/format_dav.py)",
     "output_type": "error",
     "traceback": [
      "\u001b[0;31m---------------------------------------------------------------------------\u001b[0m",
      "\u001b[0;31mImportError\u001b[0m                               Traceback (most recent call last)",
      "\u001b[0;32m<ipython-input-10-fb32c8076249>\u001b[0m in \u001b[0;36m<module>\u001b[0;34m\u001b[0m\n\u001b[1;32m      7\u001b[0m \u001b[0;32mfrom\u001b[0m \u001b[0mbotocore\u001b[0m\u001b[0;34m.\u001b[0m\u001b[0mexceptions\u001b[0m \u001b[0;32mimport\u001b[0m \u001b[0mClientError\u001b[0m\u001b[0;34m\u001b[0m\u001b[0;34m\u001b[0m\u001b[0m\n\u001b[1;32m      8\u001b[0m \u001b[0;32mfrom\u001b[0m \u001b[0mio\u001b[0m \u001b[0;32mimport\u001b[0m \u001b[0mStringIO\u001b[0m\u001b[0;34m\u001b[0m\u001b[0;34m\u001b[0m\u001b[0m\n\u001b[0;32m----> 9\u001b[0;31m \u001b[0;32mfrom\u001b[0m \u001b[0mformat_dav\u001b[0m \u001b[0;32mimport\u001b[0m \u001b[0mformat_dav\u001b[0m\u001b[0;34m\u001b[0m\u001b[0;34m\u001b[0m\u001b[0m\n\u001b[0m",
      "\u001b[0;31mImportError\u001b[0m: cannot import name 'format_dav' from 'format_dav' (/home/delfos/Downloads/dav_fosfatec/format_dav.py)"
     ]
    }
   ],
   "source": [
    "import pandas as pd\n",
    "import awswrangler as wr\n",
    "import matplotlib.pyplot as plt \n",
    "import seaborn as sns \n",
    "import io\n",
    "import boto3\n",
    "from botocore.exceptions import ClientError\n",
    "from io import StringIO\n",
    "from format_dav import format_dav"
   ]
  },
  {
   "cell_type": "code",
   "execution_count": 2,
   "id": "d69c9844",
   "metadata": {},
   "outputs": [],
   "source": [
    "s3Resource = boto3.resource('s3')\n",
    "s3Client = boto3.client('s3')"
   ]
  },
  {
   "cell_type": "code",
   "execution_count": 3,
   "id": "b00cfa3a",
   "metadata": {},
   "outputs": [],
   "source": [
    "bucket_name = 'upowl'\n",
    "file_key = 'clients/fosfatec/Relatórios_IA/DAV_2015.xlsx'"
   ]
  },
  {
   "cell_type": "code",
   "execution_count": null,
   "id": "73fe8860",
   "metadata": {},
   "outputs": [],
   "source": []
  },
  {
   "cell_type": "code",
   "execution_count": 4,
   "id": "16fcec3e",
   "metadata": {},
   "outputs": [],
   "source": [
    "upowlBucket = s3Resource.Bucket(bucket_name)\n"
   ]
  },
  {
   "cell_type": "code",
   "execution_count": null,
   "id": "b3bece39",
   "metadata": {},
   "outputs": [],
   "source": []
  },
  {
   "cell_type": "code",
   "execution_count": 5,
   "id": "8ab9ba47",
   "metadata": {},
   "outputs": [],
   "source": [
    "anos = ['2015','2016', '2017', '2018', '2019', '2020']\n",
    "#anos = ['2015']"
   ]
  },
  {
   "cell_type": "code",
   "execution_count": 6,
   "id": "388b79eb",
   "metadata": {},
   "outputs": [],
   "source": [
    "#stores = [\"\"]\n",
    "stores = [\"\",'005', '012', '013','017', '019', '018']\n",
    "\n",
    "df_all = pd.DataFrame() "
   ]
  },
  {
   "cell_type": "code",
   "execution_count": 7,
   "id": "1977a301",
   "metadata": {},
   "outputs": [
    {
     "name": "stdout",
     "output_type": "stream",
     "text": [
      "clients/fosfatec/Relatórios_IA/DAV_2015_005.xlsx\n",
      "An error occurred (AccessDenied) when calling the GetObject operation: Access Denied\n",
      "clients/fosfatec/Relatórios_IA/DAV_2015_012.xlsx\n",
      "An error occurred (AccessDenied) when calling the GetObject operation: Access Denied\n",
      "clients/fosfatec/Relatórios_IA/DAV_2015_013.xlsx\n",
      "An error occurred (AccessDenied) when calling the GetObject operation: Access Denied\n",
      "clients/fosfatec/Relatórios_IA/DAV_2015_017.xlsx\n",
      "An error occurred (AccessDenied) when calling the GetObject operation: Access Denied\n",
      "clients/fosfatec/Relatórios_IA/DAV_2015_019.xlsx\n",
      "An error occurred (AccessDenied) when calling the GetObject operation: Access Denied\n",
      "clients/fosfatec/Relatórios_IA/DAV_2015_018.xlsx\n",
      "An error occurred (AccessDenied) when calling the GetObject operation: Access Denied\n",
      "clients/fosfatec/Relatórios_IA/DAV_2016_005.xlsx\n",
      "An error occurred (AccessDenied) when calling the GetObject operation: Access Denied\n",
      "clients/fosfatec/Relatórios_IA/DAV_2016_012.xlsx\n",
      "An error occurred (AccessDenied) when calling the GetObject operation: Access Denied\n",
      "clients/fosfatec/Relatórios_IA/DAV_2016_013.xlsx\n",
      "An error occurred (AccessDenied) when calling the GetObject operation: Access Denied\n",
      "clients/fosfatec/Relatórios_IA/DAV_2016_017.xlsx\n",
      "An error occurred (AccessDenied) when calling the GetObject operation: Access Denied\n",
      "clients/fosfatec/Relatórios_IA/DAV_2016_019.xlsx\n",
      "An error occurred (AccessDenied) when calling the GetObject operation: Access Denied\n",
      "clients/fosfatec/Relatórios_IA/DAV_2016_018.xlsx\n",
      "An error occurred (AccessDenied) when calling the GetObject operation: Access Denied\n",
      "clients/fosfatec/Relatórios_IA/DAV_2017.xlsx\n",
      "An error occurred (AccessDenied) when calling the GetObject operation: Access Denied \n",
      "\n",
      "clients/fosfatec/Relatórios_IA/DAV_2017_005.xlsx\n",
      "clients/fosfatec/Relatórios_IA/DAV_2017_012.xlsx\n",
      "An error occurred (AccessDenied) when calling the GetObject operation: Access Denied\n",
      "clients/fosfatec/Relatórios_IA/DAV_2017_013.xlsx\n",
      "An error occurred (AccessDenied) when calling the GetObject operation: Access Denied\n",
      "clients/fosfatec/Relatórios_IA/DAV_2017_017.xlsx\n",
      "clients/fosfatec/Relatórios_IA/DAV_2017_019.xlsx\n",
      "clients/fosfatec/Relatórios_IA/DAV_2017_018.xlsx\n",
      "clients/fosfatec/Relatórios_IA/DAV_2018.xlsx\n",
      "An error occurred (AccessDenied) when calling the GetObject operation: Access Denied \n",
      "\n",
      "clients/fosfatec/Relatórios_IA/DAV_2018_005.xlsx\n",
      "clients/fosfatec/Relatórios_IA/DAV_2018_012.xlsx\n",
      "An error occurred (AccessDenied) when calling the GetObject operation: Access Denied\n",
      "clients/fosfatec/Relatórios_IA/DAV_2018_013.xlsx\n",
      "clients/fosfatec/Relatórios_IA/DAV_2018_017.xlsx\n",
      "clients/fosfatec/Relatórios_IA/DAV_2018_019.xlsx\n",
      "clients/fosfatec/Relatórios_IA/DAV_2018_018.xlsx\n",
      "clients/fosfatec/Relatórios_IA/DAV_2019.xlsx\n",
      "An error occurred (AccessDenied) when calling the GetObject operation: Access Denied \n",
      "\n",
      "clients/fosfatec/Relatórios_IA/DAV_2019_005.xlsx\n",
      "clients/fosfatec/Relatórios_IA/DAV_2019_012.xlsx\n",
      "An error occurred (AccessDenied) when calling the GetObject operation: Access Denied\n",
      "clients/fosfatec/Relatórios_IA/DAV_2019_013.xlsx\n",
      "clients/fosfatec/Relatórios_IA/DAV_2019_017.xlsx\n",
      "clients/fosfatec/Relatórios_IA/DAV_2019_019.xlsx\n",
      "clients/fosfatec/Relatórios_IA/DAV_2019_018.xlsx\n",
      "clients/fosfatec/Relatórios_IA/DAV_2020.xlsx\n",
      "An error occurred (AccessDenied) when calling the GetObject operation: Access Denied \n",
      "\n",
      "clients/fosfatec/Relatórios_IA/DAV_2020_005.xlsx\n",
      "clients/fosfatec/Relatórios_IA/DAV_2020_012.xlsx\n",
      "An error occurred (AccessDenied) when calling the GetObject operation: Access Denied\n",
      "clients/fosfatec/Relatórios_IA/DAV_2020_013.xlsx\n",
      "clients/fosfatec/Relatórios_IA/DAV_2020_017.xlsx\n",
      "An error occurred (AccessDenied) when calling the GetObject operation: Access Denied\n",
      "clients/fosfatec/Relatórios_IA/DAV_2020_019.xlsx\n",
      "clients/fosfatec/Relatórios_IA/DAV_2020_018.xlsx\n"
     ]
    }
   ],
   "source": [
    "for ano in anos :\n",
    "    for store in stores :\n",
    "        if(store):    \n",
    "            try:\n",
    "                obj = s3Client.get_object(Bucket=bucket_name, Key='clients/fosfatec/Relatórios_IA/DAV_'+ano+'_'+store+'.xlsx')\n",
    "                print ('clients/fosfatec/Relatórios_IA/DAV_'+ano+'_'+store+'.xlsx')\n",
    "                df = pd.read_excel(io.BytesIO(obj['Body'].read()))                \n",
    "                df['store'] = store\n",
    "                df['year'] = ano\n",
    "                                \n",
    "                df_all = pd.concat([df_all, df])\n",
    "            except ClientError as e:\n",
    "                print ('clients/fosfatec/Relatórios_IA/DAV_'+ano+'_'+store+'.xlsx')\n",
    "                print(e)\n",
    "        else:\n",
    "            try:\n",
    "                obj = s3Client.get_object(Bucket=bucket_name, Key='clients/fosfatec/Relatórios_IA/DAV_'+ano+'.xlsx')\n",
    "                df = pd.read_excel(io.BytesIO(obj['Body'].read()))\n",
    "                \n",
    "                df['store'] = '005'\n",
    "                df['year'] = ano\n",
    "                                \n",
    "                df_all = pd.concat([df_all, df])\n",
    "                \n",
    "                \n",
    "            except ClientError as e:\n",
    "                print ('clients/fosfatec/Relatórios_IA/DAV_'+ano+'.xlsx')\n",
    "                print(e, '\\n')\n",
    "       "
   ]
  },
  {
   "cell_type": "code",
   "execution_count": null,
   "id": "bc29545d",
   "metadata": {},
   "outputs": [],
   "source": []
  },
  {
   "cell_type": "code",
   "execution_count": 11,
   "id": "67d30fef",
   "metadata": {},
   "outputs": [
    {
     "data": {
      "text/html": [
       "<div>\n",
       "<style scoped>\n",
       "    .dataframe tbody tr th:only-of-type {\n",
       "        vertical-align: middle;\n",
       "    }\n",
       "\n",
       "    .dataframe tbody tr th {\n",
       "        vertical-align: top;\n",
       "    }\n",
       "\n",
       "    .dataframe thead th {\n",
       "        text-align: right;\n",
       "    }\n",
       "</style>\n",
       "<table border=\"1\" class=\"dataframe\">\n",
       "  <thead>\n",
       "    <tr style=\"text-align: right;\">\n",
       "      <th></th>\n",
       "      <th>Data da Venda</th>\n",
       "      <th>Loja/ Depósito de Venda</th>\n",
       "      <th>CAP_SEQU</th>\n",
       "      <th>Código do Fornecedor</th>\n",
       "      <th>Código do Cliente</th>\n",
       "      <th>Referência/ Código do Produto</th>\n",
       "      <th>Descrição do Produto</th>\n",
       "      <th>Código do Grupo</th>\n",
       "      <th>Descrição do Grupo</th>\n",
       "      <th>Código do Subgrupo</th>\n",
       "      <th>Descrição do Subgrupo</th>\n",
       "      <th>Código da Categoria</th>\n",
       "      <th>Descrição da Categoria</th>\n",
       "      <th>Quantidade</th>\n",
       "      <th>store</th>\n",
       "      <th>year</th>\n",
       "    </tr>\n",
       "  </thead>\n",
       "  <tbody>\n",
       "    <tr>\n",
       "      <th>65919</th>\n",
       "      <td>2020-10-31</td>\n",
       "      <td>NaN</td>\n",
       "      <td>267148</td>\n",
       "      <td>5956</td>\n",
       "      <td>0</td>\n",
       "      <td>399</td>\n",
       "      <td>MRPET- BEBEDOURO MEDIO</td>\n",
       "      <td>1</td>\n",
       "      <td>NaN</td>\n",
       "      <td>1</td>\n",
       "      <td>NaN</td>\n",
       "      <td>NaN</td>\n",
       "      <td>NaN</td>\n",
       "      <td>1.0</td>\n",
       "      <td>018</td>\n",
       "      <td>2020</td>\n",
       "    </tr>\n",
       "    <tr>\n",
       "      <th>65920</th>\n",
       "      <td>2020-10-31</td>\n",
       "      <td>NaN</td>\n",
       "      <td>267148</td>\n",
       "      <td>1</td>\n",
       "      <td>0</td>\n",
       "      <td>4540</td>\n",
       "      <td>FORRO GAIOLA GG</td>\n",
       "      <td>14</td>\n",
       "      <td>NaN</td>\n",
       "      <td>28</td>\n",
       "      <td>NaN</td>\n",
       "      <td>NaN</td>\n",
       "      <td>NaN</td>\n",
       "      <td>1.0</td>\n",
       "      <td>018</td>\n",
       "      <td>2020</td>\n",
       "    </tr>\n",
       "    <tr>\n",
       "      <th>65921</th>\n",
       "      <td>2020-10-31</td>\n",
       "      <td>NaN</td>\n",
       "      <td>267148</td>\n",
       "      <td>6924</td>\n",
       "      <td>0</td>\n",
       "      <td>10109</td>\n",
       "      <td>BASSAR  DENTAL CARE M 70G</td>\n",
       "      <td>25</td>\n",
       "      <td>NaN</td>\n",
       "      <td>1</td>\n",
       "      <td>NaN</td>\n",
       "      <td>NaN</td>\n",
       "      <td>NaN</td>\n",
       "      <td>1.0</td>\n",
       "      <td>018</td>\n",
       "      <td>2020</td>\n",
       "    </tr>\n",
       "    <tr>\n",
       "      <th>65922</th>\n",
       "      <td>2020-10-31</td>\n",
       "      <td>NaN</td>\n",
       "      <td>267148</td>\n",
       "      <td>6543</td>\n",
       "      <td>0</td>\n",
       "      <td>10545</td>\n",
       "      <td>PET-INJ BRINQ CALOPS/PSITA 2 TALOS MAD</td>\n",
       "      <td>6</td>\n",
       "      <td>NaN</td>\n",
       "      <td>1</td>\n",
       "      <td>NaN</td>\n",
       "      <td>NaN</td>\n",
       "      <td>NaN</td>\n",
       "      <td>1.0</td>\n",
       "      <td>018</td>\n",
       "      <td>2020</td>\n",
       "    </tr>\n",
       "    <tr>\n",
       "      <th>65923</th>\n",
       "      <td>2020-10-31</td>\n",
       "      <td>NaN</td>\n",
       "      <td>267148</td>\n",
       "      <td>2757</td>\n",
       "      <td>0</td>\n",
       "      <td>5516</td>\n",
       "      <td>GOLDEN FORM CAES AD MB FGO/ARROZ 15KG</td>\n",
       "      <td>3</td>\n",
       "      <td>NaN</td>\n",
       "      <td>1001</td>\n",
       "      <td>NaN</td>\n",
       "      <td>NaN</td>\n",
       "      <td>NaN</td>\n",
       "      <td>1.0</td>\n",
       "      <td>018</td>\n",
       "      <td>2020</td>\n",
       "    </tr>\n",
       "  </tbody>\n",
       "</table>\n",
       "</div>"
      ],
      "text/plain": [
       "      Data da Venda  Loja/ Depósito de Venda  CAP_SEQU  Código do Fornecedor  \\\n",
       "65919    2020-10-31                      NaN    267148                  5956   \n",
       "65920    2020-10-31                      NaN    267148                     1   \n",
       "65921    2020-10-31                      NaN    267148                  6924   \n",
       "65922    2020-10-31                      NaN    267148                  6543   \n",
       "65923    2020-10-31                      NaN    267148                  2757   \n",
       "\n",
       "       Código do Cliente  Referência/ Código do Produto  \\\n",
       "65919                  0                            399   \n",
       "65920                  0                           4540   \n",
       "65921                  0                          10109   \n",
       "65922                  0                          10545   \n",
       "65923                  0                           5516   \n",
       "\n",
       "                         Descrição do Produto  Código do Grupo  \\\n",
       "65919                  MRPET- BEBEDOURO MEDIO                1   \n",
       "65920                         FORRO GAIOLA GG               14   \n",
       "65921               BASSAR  DENTAL CARE M 70G               25   \n",
       "65922  PET-INJ BRINQ CALOPS/PSITA 2 TALOS MAD                6   \n",
       "65923   GOLDEN FORM CAES AD MB FGO/ARROZ 15KG                3   \n",
       "\n",
       "       Descrição do Grupo  Código do Subgrupo  Descrição do Subgrupo  \\\n",
       "65919                 NaN                   1                    NaN   \n",
       "65920                 NaN                  28                    NaN   \n",
       "65921                 NaN                   1                    NaN   \n",
       "65922                 NaN                   1                    NaN   \n",
       "65923                 NaN                1001                    NaN   \n",
       "\n",
       "       Código da Categoria  Descrição da Categoria  Quantidade store  year  \n",
       "65919                  NaN                     NaN         1.0   018  2020  \n",
       "65920                  NaN                     NaN         1.0   018  2020  \n",
       "65921                  NaN                     NaN         1.0   018  2020  \n",
       "65922                  NaN                     NaN         1.0   018  2020  \n",
       "65923                  NaN                     NaN         1.0   018  2020  "
      ]
     },
     "execution_count": 11,
     "metadata": {},
     "output_type": "execute_result"
    }
   ],
   "source": [
    "df_all.tail()"
   ]
  },
  {
   "cell_type": "code",
   "execution_count": null,
   "id": "e2b51ace",
   "metadata": {},
   "outputs": [],
   "source": []
  },
  {
   "cell_type": "code",
   "execution_count": null,
   "id": "79f937d5",
   "metadata": {},
   "outputs": [],
   "source": []
  },
  {
   "cell_type": "code",
   "execution_count": 12,
   "id": "b285a28c",
   "metadata": {},
   "outputs": [
    {
     "ename": "NameError",
     "evalue": "name 'format_dav' is not defined",
     "output_type": "error",
     "traceback": [
      "\u001b[0;31m---------------------------------------------------------------------------\u001b[0m",
      "\u001b[0;31mNameError\u001b[0m                                 Traceback (most recent call last)",
      "\u001b[0;32m<ipython-input-12-6e92e3963bff>\u001b[0m in \u001b[0;36m<module>\u001b[0;34m\u001b[0m\n\u001b[0;32m----> 1\u001b[0;31m \u001b[0mdf_by_year\u001b[0m \u001b[0;34m=\u001b[0m \u001b[0mformat_dav\u001b[0m\u001b[0;34m(\u001b[0m\u001b[0manos\u001b[0m\u001b[0;34m,\u001b[0m \u001b[0mdf_all\u001b[0m\u001b[0;34m)\u001b[0m\u001b[0;34m\u001b[0m\u001b[0;34m\u001b[0m\u001b[0m\n\u001b[0m",
      "\u001b[0;31mNameError\u001b[0m: name 'format_dav' is not defined"
     ]
    }
   ],
   "source": [
    "df_by_year = format_dav(anos, df_all)"
   ]
  },
  {
   "cell_type": "code",
   "execution_count": null,
   "id": "52900fd2",
   "metadata": {},
   "outputs": [],
   "source": []
  },
  {
   "cell_type": "code",
   "execution_count": null,
   "id": "ee63679b",
   "metadata": {
    "scrolled": true
   },
   "outputs": [],
   "source": [
    "df_by_year['2016']"
   ]
  },
  {
   "cell_type": "code",
   "execution_count": null,
   "id": "47771220",
   "metadata": {},
   "outputs": [],
   "source": []
  },
  {
   "cell_type": "code",
   "execution_count": 49,
   "id": "b1f00824",
   "metadata": {},
   "outputs": [],
   "source": [
    "# Export"
   ]
  },
  {
   "cell_type": "code",
   "execution_count": null,
   "id": "4a5f7ac5",
   "metadata": {},
   "outputs": [],
   "source": []
  },
  {
   "cell_type": "code",
   "execution_count": 50,
   "id": "69df9522",
   "metadata": {},
   "outputs": [],
   "source": [
    "for year in df_by_year:\n",
    "    df = df_by_year[year]\n",
    "    csv_buffer = StringIO()\n",
    "    df.to_csv(csv_buffer)\n",
    "    s3_resource = boto3.resource('s3')\n",
    "    s3_resource.Object(bucket_name, 'clients/fosfatec/Formated DAVs/'+year+'.csv').put(Body=csv_buffer.getvalue())\n",
    "#        s3Client.put_object(Body=xlx_buffer.getvalue(), Bucket=bucket_name, Key='clients/fosfatec/Formated DAVs/'+year+'.xlsx')\n"
   ]
  },
  {
   "cell_type": "code",
   "execution_count": null,
   "id": "76fd12d4",
   "metadata": {},
   "outputs": [],
   "source": [
    "for year in df_by_year:\n",
    "    df = df_by_year[year]\n",
    "    df.to_excel('Formated DAVs/'+year+'.xlsx')"
   ]
  },
  {
   "cell_type": "code",
   "execution_count": null,
   "id": "961ffd67",
   "metadata": {},
   "outputs": [],
   "source": []
  },
  {
   "cell_type": "code",
   "execution_count": null,
   "id": "e931ed7f",
   "metadata": {},
   "outputs": [],
   "source": [
    "# df_all.tail(10)"
   ]
  },
  {
   "cell_type": "code",
   "execution_count": null,
   "id": "95a3824d",
   "metadata": {},
   "outputs": [],
   "source": [
    "# df.tail()"
   ]
  },
  {
   "cell_type": "code",
   "execution_count": null,
   "id": "1b7ce455",
   "metadata": {},
   "outputs": [],
   "source": [
    "# df['Store'] = '005'"
   ]
  },
  {
   "cell_type": "code",
   "execution_count": null,
   "id": "1b20c48c",
   "metadata": {},
   "outputs": [],
   "source": [
    "# df.head()"
   ]
  },
  {
   "cell_type": "code",
   "execution_count": null,
   "id": "5ee311fd",
   "metadata": {},
   "outputs": [],
   "source": []
  },
  {
   "cell_type": "code",
   "execution_count": 30,
   "id": "e548e1ec",
   "metadata": {},
   "outputs": [
    {
     "ename": "ClientError",
     "evalue": "An error occurred (AccessDenied) when calling the ListObjectsV2 operation: Access Denied",
     "output_type": "error",
     "traceback": [
      "\u001b[0;31m---------------------------------------------------------------------------\u001b[0m",
      "\u001b[0;31mClientError\u001b[0m                               Traceback (most recent call last)",
      "\u001b[0;32m<ipython-input-30-89758c9044a7>\u001b[0m in \u001b[0;36m<module>\u001b[0;34m\u001b[0m\n\u001b[0;32m----> 1\u001b[0;31m \u001b[0mobjects\u001b[0m \u001b[0;34m=\u001b[0m \u001b[0ms3Client\u001b[0m\u001b[0;34m.\u001b[0m\u001b[0mlist_objects_v2\u001b[0m\u001b[0;34m(\u001b[0m\u001b[0mBucket\u001b[0m\u001b[0;34m=\u001b[0m\u001b[0mbucket_name\u001b[0m\u001b[0;34m)\u001b[0m\u001b[0;34m\u001b[0m\u001b[0;34m\u001b[0m\u001b[0m\n\u001b[0m\u001b[1;32m      2\u001b[0m \u001b[0;32mfor\u001b[0m \u001b[0mobj\u001b[0m \u001b[0;32min\u001b[0m \u001b[0mobjects\u001b[0m\u001b[0;34m[\u001b[0m\u001b[0;34m'Contents'\u001b[0m\u001b[0;34m]\u001b[0m\u001b[0;34m:\u001b[0m\u001b[0;34m\u001b[0m\u001b[0;34m\u001b[0m\u001b[0m\n\u001b[1;32m      3\u001b[0m   \u001b[0mprint\u001b[0m\u001b[0;34m(\u001b[0m\u001b[0mobj\u001b[0m\u001b[0;34m[\u001b[0m\u001b[0;34m'Key'\u001b[0m\u001b[0;34m]\u001b[0m\u001b[0;34m)\u001b[0m\u001b[0;34m\u001b[0m\u001b[0;34m\u001b[0m\u001b[0m\n",
      "\u001b[0;32m~/.local/lib/python3.8/site-packages/botocore/client.py\u001b[0m in \u001b[0;36m_api_call\u001b[0;34m(self, *args, **kwargs)\u001b[0m\n\u001b[1;32m    384\u001b[0m                     \"%s() only accepts keyword arguments.\" % py_operation_name)\n\u001b[1;32m    385\u001b[0m             \u001b[0;31m# The \"self\" in this scope is referring to the BaseClient.\u001b[0m\u001b[0;34m\u001b[0m\u001b[0;34m\u001b[0m\u001b[0;34m\u001b[0m\u001b[0m\n\u001b[0;32m--> 386\u001b[0;31m             \u001b[0;32mreturn\u001b[0m \u001b[0mself\u001b[0m\u001b[0;34m.\u001b[0m\u001b[0m_make_api_call\u001b[0m\u001b[0;34m(\u001b[0m\u001b[0moperation_name\u001b[0m\u001b[0;34m,\u001b[0m \u001b[0mkwargs\u001b[0m\u001b[0;34m)\u001b[0m\u001b[0;34m\u001b[0m\u001b[0;34m\u001b[0m\u001b[0m\n\u001b[0m\u001b[1;32m    387\u001b[0m \u001b[0;34m\u001b[0m\u001b[0m\n\u001b[1;32m    388\u001b[0m         \u001b[0m_api_call\u001b[0m\u001b[0;34m.\u001b[0m\u001b[0m__name__\u001b[0m \u001b[0;34m=\u001b[0m \u001b[0mstr\u001b[0m\u001b[0;34m(\u001b[0m\u001b[0mpy_operation_name\u001b[0m\u001b[0;34m)\u001b[0m\u001b[0;34m\u001b[0m\u001b[0;34m\u001b[0m\u001b[0m\n",
      "\u001b[0;32m~/.local/lib/python3.8/site-packages/botocore/client.py\u001b[0m in \u001b[0;36m_make_api_call\u001b[0;34m(self, operation_name, api_params)\u001b[0m\n\u001b[1;32m    703\u001b[0m             \u001b[0merror_code\u001b[0m \u001b[0;34m=\u001b[0m \u001b[0mparsed_response\u001b[0m\u001b[0;34m.\u001b[0m\u001b[0mget\u001b[0m\u001b[0;34m(\u001b[0m\u001b[0;34m\"Error\"\u001b[0m\u001b[0;34m,\u001b[0m \u001b[0;34m{\u001b[0m\u001b[0;34m}\u001b[0m\u001b[0;34m)\u001b[0m\u001b[0;34m.\u001b[0m\u001b[0mget\u001b[0m\u001b[0;34m(\u001b[0m\u001b[0;34m\"Code\"\u001b[0m\u001b[0;34m)\u001b[0m\u001b[0;34m\u001b[0m\u001b[0;34m\u001b[0m\u001b[0m\n\u001b[1;32m    704\u001b[0m             \u001b[0merror_class\u001b[0m \u001b[0;34m=\u001b[0m \u001b[0mself\u001b[0m\u001b[0;34m.\u001b[0m\u001b[0mexceptions\u001b[0m\u001b[0;34m.\u001b[0m\u001b[0mfrom_code\u001b[0m\u001b[0;34m(\u001b[0m\u001b[0merror_code\u001b[0m\u001b[0;34m)\u001b[0m\u001b[0;34m\u001b[0m\u001b[0;34m\u001b[0m\u001b[0m\n\u001b[0;32m--> 705\u001b[0;31m             \u001b[0;32mraise\u001b[0m \u001b[0merror_class\u001b[0m\u001b[0;34m(\u001b[0m\u001b[0mparsed_response\u001b[0m\u001b[0;34m,\u001b[0m \u001b[0moperation_name\u001b[0m\u001b[0;34m)\u001b[0m\u001b[0;34m\u001b[0m\u001b[0;34m\u001b[0m\u001b[0m\n\u001b[0m\u001b[1;32m    706\u001b[0m         \u001b[0;32melse\u001b[0m\u001b[0;34m:\u001b[0m\u001b[0;34m\u001b[0m\u001b[0;34m\u001b[0m\u001b[0m\n\u001b[1;32m    707\u001b[0m             \u001b[0;32mreturn\u001b[0m \u001b[0mparsed_response\u001b[0m\u001b[0;34m\u001b[0m\u001b[0;34m\u001b[0m\u001b[0m\n",
      "\u001b[0;31mClientError\u001b[0m: An error occurred (AccessDenied) when calling the ListObjectsV2 operation: Access Denied"
     ]
    }
   ],
   "source": []
  },
  {
   "cell_type": "code",
   "execution_count": 71,
   "id": "6990250c",
   "metadata": {},
   "outputs": [],
   "source": [
    "obj = s3Client.get_object(Bucket=bucket_name, Key='clients/fosfatec/Formated DAVs/2017.csv')\n",
    "df = pd.read_csv(io.BytesIO(obj['Body'].read()))"
   ]
  },
  {
   "cell_type": "code",
   "execution_count": 72,
   "id": "6f406766",
   "metadata": {},
   "outputs": [
    {
     "data": {
      "text/html": [
       "<div>\n",
       "<style scoped>\n",
       "    .dataframe tbody tr th:only-of-type {\n",
       "        vertical-align: middle;\n",
       "    }\n",
       "\n",
       "    .dataframe tbody tr th {\n",
       "        vertical-align: top;\n",
       "    }\n",
       "\n",
       "    .dataframe thead th {\n",
       "        text-align: right;\n",
       "    }\n",
       "</style>\n",
       "<table border=\"1\" class=\"dataframe\">\n",
       "  <thead>\n",
       "    <tr style=\"text-align: right;\">\n",
       "      <th></th>\n",
       "      <th>year</th>\n",
       "      <th>store</th>\n",
       "      <th>time</th>\n",
       "      <th>client_id</th>\n",
       "      <th>product_id</th>\n",
       "      <th>group_id</th>\n",
       "      <th>subgroup_id</th>\n",
       "      <th>quantity</th>\n",
       "    </tr>\n",
       "  </thead>\n",
       "  <tbody>\n",
       "    <tr>\n",
       "      <th>0</th>\n",
       "      <td>2017</td>\n",
       "      <td>5</td>\n",
       "      <td>2017-01-02</td>\n",
       "      <td>0</td>\n",
       "      <td>4</td>\n",
       "      <td>1</td>\n",
       "      <td>15</td>\n",
       "      <td>2.0</td>\n",
       "    </tr>\n",
       "    <tr>\n",
       "      <th>1</th>\n",
       "      <td>2017</td>\n",
       "      <td>5</td>\n",
       "      <td>2017-01-02</td>\n",
       "      <td>0</td>\n",
       "      <td>26</td>\n",
       "      <td>1</td>\n",
       "      <td>1</td>\n",
       "      <td>6.0</td>\n",
       "    </tr>\n",
       "    <tr>\n",
       "      <th>2</th>\n",
       "      <td>2017</td>\n",
       "      <td>5</td>\n",
       "      <td>2017-01-02</td>\n",
       "      <td>0</td>\n",
       "      <td>37</td>\n",
       "      <td>1</td>\n",
       "      <td>1</td>\n",
       "      <td>2.0</td>\n",
       "    </tr>\n",
       "    <tr>\n",
       "      <th>3</th>\n",
       "      <td>2017</td>\n",
       "      <td>5</td>\n",
       "      <td>2017-01-02</td>\n",
       "      <td>0</td>\n",
       "      <td>59</td>\n",
       "      <td>1</td>\n",
       "      <td>1</td>\n",
       "      <td>4.0</td>\n",
       "    </tr>\n",
       "    <tr>\n",
       "      <th>4</th>\n",
       "      <td>2017</td>\n",
       "      <td>5</td>\n",
       "      <td>2017-01-02</td>\n",
       "      <td>0</td>\n",
       "      <td>82</td>\n",
       "      <td>1</td>\n",
       "      <td>1013</td>\n",
       "      <td>1.0</td>\n",
       "    </tr>\n",
       "  </tbody>\n",
       "</table>\n",
       "</div>"
      ],
      "text/plain": [
       "   year  store        time  client_id  product_id  group_id  subgroup_id  \\\n",
       "0  2017      5  2017-01-02          0           4         1           15   \n",
       "1  2017      5  2017-01-02          0          26         1            1   \n",
       "2  2017      5  2017-01-02          0          37         1            1   \n",
       "3  2017      5  2017-01-02          0          59         1            1   \n",
       "4  2017      5  2017-01-02          0          82         1         1013   \n",
       "\n",
       "   quantity  \n",
       "0       2.0  \n",
       "1       6.0  \n",
       "2       2.0  \n",
       "3       4.0  \n",
       "4       1.0  "
      ]
     },
     "execution_count": 72,
     "metadata": {},
     "output_type": "execute_result"
    }
   ],
   "source": [
    "df.head()"
   ]
  },
  {
   "cell_type": "code",
   "execution_count": 73,
   "id": "c1ac9b4b",
   "metadata": {},
   "outputs": [],
   "source": [
    "test = df.drop_duplicates(subset=['store'])\n"
   ]
  },
  {
   "cell_type": "code",
   "execution_count": 74,
   "id": "2663efb5",
   "metadata": {},
   "outputs": [
    {
     "data": {
      "text/html": [
       "<div>\n",
       "<style scoped>\n",
       "    .dataframe tbody tr th:only-of-type {\n",
       "        vertical-align: middle;\n",
       "    }\n",
       "\n",
       "    .dataframe tbody tr th {\n",
       "        vertical-align: top;\n",
       "    }\n",
       "\n",
       "    .dataframe thead th {\n",
       "        text-align: right;\n",
       "    }\n",
       "</style>\n",
       "<table border=\"1\" class=\"dataframe\">\n",
       "  <thead>\n",
       "    <tr style=\"text-align: right;\">\n",
       "      <th></th>\n",
       "      <th>year</th>\n",
       "      <th>store</th>\n",
       "      <th>time</th>\n",
       "      <th>client_id</th>\n",
       "      <th>product_id</th>\n",
       "      <th>group_id</th>\n",
       "      <th>subgroup_id</th>\n",
       "      <th>quantity</th>\n",
       "    </tr>\n",
       "  </thead>\n",
       "  <tbody>\n",
       "    <tr>\n",
       "      <th>0</th>\n",
       "      <td>2017</td>\n",
       "      <td>5</td>\n",
       "      <td>2017-01-02</td>\n",
       "      <td>0</td>\n",
       "      <td>4</td>\n",
       "      <td>1</td>\n",
       "      <td>15</td>\n",
       "      <td>2.0</td>\n",
       "    </tr>\n",
       "    <tr>\n",
       "      <th>16270</th>\n",
       "      <td>2017</td>\n",
       "      <td>17</td>\n",
       "      <td>2017-03-29</td>\n",
       "      <td>0</td>\n",
       "      <td>188</td>\n",
       "      <td>7</td>\n",
       "      <td>1</td>\n",
       "      <td>0.1</td>\n",
       "    </tr>\n",
       "    <tr>\n",
       "      <th>31816</th>\n",
       "      <td>2017</td>\n",
       "      <td>18</td>\n",
       "      <td>2017-03-29</td>\n",
       "      <td>0</td>\n",
       "      <td>59</td>\n",
       "      <td>1</td>\n",
       "      <td>1</td>\n",
       "      <td>24.0</td>\n",
       "    </tr>\n",
       "    <tr>\n",
       "      <th>59464</th>\n",
       "      <td>2017</td>\n",
       "      <td>19</td>\n",
       "      <td>2017-03-28</td>\n",
       "      <td>0</td>\n",
       "      <td>3</td>\n",
       "      <td>18</td>\n",
       "      <td>1017</td>\n",
       "      <td>1.0</td>\n",
       "    </tr>\n",
       "  </tbody>\n",
       "</table>\n",
       "</div>"
      ],
      "text/plain": [
       "       year  store        time  client_id  product_id  group_id  subgroup_id  \\\n",
       "0      2017      5  2017-01-02          0           4         1           15   \n",
       "16270  2017     17  2017-03-29          0         188         7            1   \n",
       "31816  2017     18  2017-03-29          0          59         1            1   \n",
       "59464  2017     19  2017-03-28          0           3        18         1017   \n",
       "\n",
       "       quantity  \n",
       "0           2.0  \n",
       "16270       0.1  \n",
       "31816      24.0  \n",
       "59464       1.0  "
      ]
     },
     "execution_count": 74,
     "metadata": {},
     "output_type": "execute_result"
    }
   ],
   "source": [
    "test"
   ]
  },
  {
   "cell_type": "code",
   "execution_count": null,
   "id": "8d468ddd",
   "metadata": {},
   "outputs": [],
   "source": []
  }
 ],
 "metadata": {
  "kernelspec": {
   "display_name": "Python 3",
   "language": "python",
   "name": "python3"
  },
  "language_info": {
   "codemirror_mode": {
    "name": "ipython",
    "version": 3
   },
   "file_extension": ".py",
   "mimetype": "text/x-python",
   "name": "python",
   "nbconvert_exporter": "python",
   "pygments_lexer": "ipython3",
   "version": "3.8.8"
  }
 },
 "nbformat": 4,
 "nbformat_minor": 5
}
